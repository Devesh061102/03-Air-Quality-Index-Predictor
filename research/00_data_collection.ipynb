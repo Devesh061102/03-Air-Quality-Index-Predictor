{
 "cells": [
  {
   "cell_type": "code",
   "execution_count": 1,
   "metadata": {},
   "outputs": [
    {
     "data": {
      "text/plain": [
       "'d:\\\\ML-Projects\\\\03-Air-Quality-Index-Predictor\\\\research'"
      ]
     },
     "execution_count": 1,
     "metadata": {},
     "output_type": "execute_result"
    }
   ],
   "source": [
    "import os\n",
    "%pwd"
   ]
  },
  {
   "cell_type": "code",
   "execution_count": 2,
   "metadata": {},
   "outputs": [
    {
     "data": {
      "text/plain": [
       "'d:\\\\ML-Projects\\\\03-Air-Quality-Index-Predictor'"
      ]
     },
     "execution_count": 2,
     "metadata": {},
     "output_type": "execute_result"
    }
   ],
   "source": [
    "os.chdir(\"../\")\n",
    "%pwd"
   ]
  },
  {
   "cell_type": "code",
   "execution_count": 4,
   "metadata": {},
   "outputs": [],
   "source": [
    "from dataclasses import dataclass\n",
    "from pathlib import Path\n",
    "from datetime import datetime\n",
    "\n",
    "@dataclass(frozen=True)\n",
    "class DataCollectionConfig:\n",
    "    root_dir: Path\n",
    "    api_key: str\n",
    "    city_info: dict\n",
    "    start_date: datetime\n",
    "    end_date: datetime\n",
    "    output_file: Path"
   ]
  },
  {
   "cell_type": "code",
   "execution_count": 5,
   "metadata": {},
   "outputs": [],
   "source": [
    "from Air_Quality_Predictor.constants import *\n",
    "from Air_Quality_Predictor.utils.common import read_yaml, create_directories"
   ]
  },
  {
   "cell_type": "code",
   "execution_count": 6,
   "metadata": {},
   "outputs": [],
   "source": [
    "class ConfigurationManager:\n",
    "    def __init__(\n",
    "        self,\n",
    "        config_filepath = CONFIG_FILE_PATH,\n",
    "        params_filepath = PARAMS_FILE_PATH):\n",
    "\n",
    "        self.config = read_yaml(config_filepath)\n",
    "        self.params = read_yaml(params_filepath)\n",
    "\n",
    "        create_directories([self.config.artifacts_root])\n",
    "\n",
    "    def get_data_collection_config(self) -> DataCollectionConfig:\n",
    "        config = self.config.data_collection\n",
    "        \n",
    "        data_collection_config = DataCollectionConfig(\n",
    "            root_dir = config.root_dir,\n",
    "            api_key = config.api_key,\n",
    "            city_info = config.city_info,\n",
    "            start_date = datetime.strptime(config['start_date'], \"%Y-%m-%d\"),\n",
    "            end_date = datetime.strptime(config['end_date'], \"%Y-%m-%d\"),\n",
    "            output_file = config.output_file\n",
    "        )\n",
    "\n",
    "        return data_collection_config\n",
    "    "
   ]
  },
  {
   "cell_type": "code",
   "execution_count": null,
   "metadata": {},
   "outputs": [],
   "source": [
    "import requests\n",
    "import pandas as pd\n",
    "from datetime import datetime, timedelta\n",
    "import time\n",
    "from Air_Quality_Predictor.logging import logger"
   ]
  },
  {
   "cell_type": "code",
   "execution_count": 7,
   "metadata": {},
   "outputs": [],
   "source": [
    "class DataCollection:\n",
    "    def __init__(self, config: DataCollectionConfig):\n",
    "        self.config = config\n",
    "        self.pollution_url = \"http://api.openweathermap.org/data/2.5/air_pollution/history\"\n",
    "        self.pollution_data_df = pd.DataFrame()\n",
    "\n",
    "    def fetch_pollution_data(self, lat: float, lon: float, start: datetime, end: datetime):\n",
    "        params = {\n",
    "            \"lat\": lat,\n",
    "            \"lon\": lon,\n",
    "            \"start\": int(start.timestamp()),\n",
    "            \"end\": int(end.timestamp()),\n",
    "            \"appid\": self.config.api_key\n",
    "        }\n",
    "        response = requests.get(self.pollution_url, params=params)\n",
    "        return response\n",
    "\n",
    "    def collect_data(self):\n",
    "        current_date = self.config.start_date\n",
    "        months_fetched = 0\n",
    "\n",
    "        while current_date <= self.config.end_date:\n",
    "            end_of_month = (current_date.replace(day=1) + timedelta(days=32)).replace(day=1) - timedelta(days=1)\n",
    "            if end_of_month > self.config.end_date:\n",
    "                end_of_month = self.config.end_date\n",
    "\n",
    "            pollution_response = self.fetch_pollution_data(self.config.city_info[\"lat\"], self.config.city_info[\"lon\"], current_date, end_of_month)\n",
    "            \n",
    "            if pollution_response.status_code == 200:\n",
    "                pollution_data = pollution_response.json()\n",
    "                \n",
    "                if pollution_data.get(\"list\"):\n",
    "                    daily_agg_pollution = {\n",
    "                        \"pm2_5\": 0,\n",
    "                        \"pm10\": 0,\n",
    "                        \"o3\": 0,\n",
    "                        \"no2\": 0,\n",
    "                        \"so2\": 0,\n",
    "                        \"co\": 0,\n",
    "                        \"count\": 0\n",
    "                    }\n",
    "                    for hourly_data in pollution_data[\"list\"]:\n",
    "                        daily_agg_pollution[\"pm2_5\"] += hourly_data[\"components\"].get(\"pm2_5\", 0)\n",
    "                        daily_agg_pollution[\"pm10\"] += hourly_data[\"components\"].get(\"pm10\", 0)\n",
    "                        daily_agg_pollution[\"o3\"] += hourly_data[\"components\"].get(\"o3\", 0)\n",
    "                        daily_agg_pollution[\"no2\"] += hourly_data[\"components\"].get(\"no2\", 0)\n",
    "                        daily_agg_pollution[\"so2\"] += hourly_data[\"components\"].get(\"so2\", 0)\n",
    "                        daily_agg_pollution[\"co\"] += hourly_data[\"components\"].get(\"co\", 0)\n",
    "                        daily_agg_pollution[\"count\"] += 1\n",
    "                    \n",
    "                    if daily_agg_pollution[\"count\"] > 0:\n",
    "                        pollution_row = {\n",
    "                            \"city\": self.config.city_info[\"city\"],\n",
    "                            \"date\": current_date.strftime(\"%Y-%m-%d\"),\n",
    "                            \"pm2_5\": round(daily_agg_pollution[\"pm2_5\"] / daily_agg_pollution[\"count\"], 3),\n",
    "                            \"pm10\": round(daily_agg_pollution[\"pm10\"] / daily_agg_pollution[\"count\"], 3),\n",
    "                            \"o3\": round(daily_agg_pollution[\"o3\"] / daily_agg_pollution[\"count\"], 3),\n",
    "                            \"no2\": round(daily_agg_pollution[\"no2\"] / daily_agg_pollution[\"count\"], 3),\n",
    "                            \"so2\": round(daily_agg_pollution[\"so2\"] / daily_agg_pollution[\"count\"], 3),\n",
    "                            \"co\": round(daily_agg_pollution[\"co\"] / daily_agg_pollution[\"count\"], 3),\n",
    "                        }\n",
    "                        \n",
    "                        row_df = pd.DataFrame([pollution_row])\n",
    "                        self.pollution_data_df = pd.concat([self.pollution_data_df, row_df], ignore_index=True)\n",
    "            \n",
    "            else:\n",
    "                logger.error(f\"Error fetching pollution data for {self.config.city_info['city']} on {current_date.strftime('%Y-%m-%d')}\")\n",
    "\n",
    "            current_date += timedelta(days=1)\n",
    "            if current_date.month != (current_date - timedelta(days=1)).month:\n",
    "                months_fetched += 1\n",
    "                logger.info(f\"Monthly data fetched: {months_fetched} months\")\n",
    "                logger.info(\"-\" * 50)\n",
    "            \n",
    "            # To ensure we do not exceed 60 requests per minute\n",
    "            time.sleep(1)\n",
    "\n",
    "    def save_data(self):\n",
    "        city_name = self.config.city_info[\"city\"]\n",
    "        output_file = self.config.output_dir / f\"{city_name}_pollutant_data.csv\"\n",
    "        self.pollution_data_df.to_csv(output_file, index=False)\n",
    "        logger.info(f\"Pollution data for {city_name} has been saved to {output_file}\")"
   ]
  },
  {
   "cell_type": "code",
   "execution_count": null,
   "metadata": {},
   "outputs": [],
   "source": [
    "try:\n",
    "    config_manager = ConfigurationManager()\n",
    "    data_collection_config = config_manager.get_data_collection_config()\n",
    "    data_collection = DataCollection(config=data_collection_config)\n",
    "    \n",
    "    data_collection.collect_data()\n",
    "    data_collection.save_data()\n",
    "    \n",
    "except Exception as e:\n",
    "    raise e"
   ]
  }
 ],
 "metadata": {
  "kernelspec": {
   "display_name": "env",
   "language": "python",
   "name": "python3"
  },
  "language_info": {
   "codemirror_mode": {
    "name": "ipython",
    "version": 3
   },
   "file_extension": ".py",
   "mimetype": "text/x-python",
   "name": "python",
   "nbconvert_exporter": "python",
   "pygments_lexer": "ipython3",
   "version": "3.10.11"
  }
 },
 "nbformat": 4,
 "nbformat_minor": 2
}
