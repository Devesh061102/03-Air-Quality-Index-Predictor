{
 "cells": [
  {
   "cell_type": "code",
   "execution_count": 1,
   "metadata": {},
   "outputs": [
    {
     "data": {
      "text/plain": [
       "'c:\\\\Users\\\\hp\\\\Documents\\\\DS\\\\Complete Project\\\\03-Air-Quality-Index-Predictor\\\\research'"
      ]
     },
     "execution_count": 1,
     "metadata": {},
     "output_type": "execute_result"
    }
   ],
   "source": [
    "import os\n",
    "%pwd"
   ]
  },
  {
   "cell_type": "code",
   "execution_count": 2,
   "metadata": {},
   "outputs": [
    {
     "data": {
      "text/plain": [
       "'c:\\\\Users\\\\hp\\\\Documents\\\\DS\\\\Complete Project\\\\03-Air-Quality-Index-Predictor'"
      ]
     },
     "execution_count": 2,
     "metadata": {},
     "output_type": "execute_result"
    }
   ],
   "source": [
    "os.chdir(\"../\")\n",
    "%pwd"
   ]
  },
  {
   "cell_type": "code",
   "execution_count": 9,
   "metadata": {},
   "outputs": [],
   "source": [
    "from dataclasses import dataclass\n",
    "from pathlib import Path\n",
    "from typing import List\n",
    "\n",
    "@dataclass(frozen=True)\n",
    "class DataIngestionConfig:\n",
    "    root_dir: Path  # Root directory where data will be stored\n",
    "    secure_connect_bundle: Path  # Path to the secure connect bundle for connecting to AstraDB\n",
    "    username: str  # AstraDB username\n",
    "    password: str  # AstraDB password\n",
    "    keyspace: str  # Keyspace in AstraDB\n",
    "    table_name: List[str]  # List ofTable name in AstraDB\n",
    "    region_name: str # Region name in AstraDB\n",
    "    output_file: Path  # Path to save the downloaded data"
   ]
  },
  {
   "cell_type": "code",
   "execution_count": 6,
   "metadata": {},
   "outputs": [],
   "source": [
    "from Air_Quality_Predictor.constants import *\n",
    "from Air_Quality_Predictor.utils.common import read_yaml, create_directories"
   ]
  },
  {
   "cell_type": "code",
   "execution_count": 12,
   "metadata": {},
   "outputs": [],
   "source": [
    "class ConfigurationManager:\n",
    "    def __init__(\n",
    "        self,\n",
    "        config_filepath = CONFIG_FILE_PATH,\n",
    "        params_filepath = PARAMS_FILE_PATH):\n",
    "\n",
    "        self.config = read_yaml(config_filepath)\n",
    "        self.params = read_yaml(params_filepath)\n",
    "\n",
    "        create_directories([self.config.artifacts_root])\n",
    "\n",
    "    \n",
    "\n",
    "    def get_data_ingestion_config(self) -> DataIngestionConfig:\n",
    "        config = self.config.data_ingestion\n",
    "\n",
    "        create_directories([config.root_dir])\n",
    "\n",
    "        data_ingestion_config = DataIngestionConfig(\n",
    "            root_dir = config.root_dir,\n",
    "            secure_connect_bundle = config.secure_connect_bundle, \n",
    "            username = config.username, \n",
    "            password = config.password, \n",
    "            keyspace = config.keyspace,  \n",
    "            table_name = config.table_name, \n",
    "            region_name = config.region_name,\n",
    "            output_file = config.output_file  \n",
    "        )\n",
    "\n",
    "        return data_ingestion_config"
   ]
  },
  {
   "cell_type": "code",
   "execution_count": 14,
   "metadata": {},
   "outputs": [],
   "source": [
    "from cassandra.cluster import Cluster\n",
    "import pandas as pd\n",
    "from cassandra.auth import PlainTextAuthProvider\n",
    "from Air_Quality_Predictor.logging import logger\n"
   ]
  },
  {
   "cell_type": "code",
   "execution_count": 18,
   "metadata": {},
   "outputs": [],
   "source": [
    "class DataIngestion:\n",
    "    def __init__(self, config: DataIngestionConfig):\n",
    "        self.config = config\n",
    "        \n",
    "    def download_data(self):\n",
    "        # Create a connection to the AstraDB cluster\n",
    "        protocol_version = 4\n",
    "        cloud_config = {'secure_connect_bundle': str(self.config.secure_connect_bundle)}\n",
    "        auth_provider = PlainTextAuthProvider(username=self.config.username, password=self.config.password)\n",
    "        cluster = Cluster(cloud=cloud_config, auth_provider=auth_provider,protocol_version=protocol_version)\n",
    "        session = cluster.connect(self.config.keyspace)\n",
    "\n",
    "        try:\n",
    "            df_list = []\n",
    "            for table_name in self.config.table_name:\n",
    "                    query = f\"SELECT * FROM {table_name}\"\n",
    "                    result_set = session.execute(query)\n",
    "                    df = pd.DataFrame(list(result_set))\n",
    "                    df_list.append(df)\n",
    "\n",
    "            result_df = pd.concat(df_list, ignore_index=True)\n",
    "            result_df.to_csv(self.config.output_file, index=False)\n",
    "            logger.info(f\"Data downloaded and saved to {self.config.output_file}\")\n",
    "                \n",
    "\n",
    "        except Exception as e:\n",
    "            logger.error(f\"Error downloading data: {e}\")\n",
    "            raise e\n",
    "\n",
    "        finally:\n",
    "            # Close the session and cluster\n",
    "            session.shutdown()\n",
    "            cluster.shutdown()\n"
   ]
  },
  {
   "cell_type": "code",
   "execution_count": 20,
   "metadata": {},
   "outputs": [
    {
     "name": "stdout",
     "output_type": "stream",
     "text": [
      "[2024-05-01 15:50:38,654 : INFO : common : yaml file: config\\config.yaml loaded successfully]\n",
      "[2024-05-01 15:50:38,659 : INFO : common : yaml file: params.yaml loaded successfully]\n",
      "[2024-05-01 15:50:38,662 : INFO : common : Created directory at: artifacts]\n",
      "[2024-05-01 15:50:38,662 : INFO : common : Created directory at: artifacts/data_ingestion]\n",
      "[2024-05-01 15:50:45,570 : INFO : policies : Using datacenter 'eu-west-1' for DCAwareRoundRobinPolicy (via host '5af7119b-a6dd-47a6-be00-196398f826d7-eu-west-1.db.astra.datastax.com:29042:b8df861c-a1c5-44ee-8ade-0c6e99701d67'); if incorrect, please specify a local_dc to the constructor, or limit contact points to local cluster nodes]\n",
      "[2024-05-01 16:17:48,186 : ERROR : 3633161049 : Error downloading data: errors={'5af7119b-a6dd-47a6-be00-196398f826d7-eu-west-1.db.astra.datastax.com:29042:396fbeff-567f-440c-9442-8c9d393f6318': 'Client request timeout. See Session.execute[_async](timeout)'}, last_host=5af7119b-a6dd-47a6-be00-196398f826d7-eu-west-1.db.astra.datastax.com:29042:396fbeff-567f-440c-9442-8c9d393f6318]\n",
      "[2024-05-01 16:17:48,186 : WARNING : threading : Heartbeat failed for connection (1385713046080) to 5af7119b-a6dd-47a6-be00-196398f826d7-eu-west-1.db.astra.datastax.com:29042:396fbeff-567f-440c-9442-8c9d393f6318]\n"
     ]
    },
    {
     "ename": "OperationTimedOut",
     "evalue": "errors={'5af7119b-a6dd-47a6-be00-196398f826d7-eu-west-1.db.astra.datastax.com:29042:396fbeff-567f-440c-9442-8c9d393f6318': 'Client request timeout. See Session.execute[_async](timeout)'}, last_host=5af7119b-a6dd-47a6-be00-196398f826d7-eu-west-1.db.astra.datastax.com:29042:396fbeff-567f-440c-9442-8c9d393f6318",
     "output_type": "error",
     "traceback": [
      "\u001b[1;31m---------------------------------------------------------------------------\u001b[0m",
      "\u001b[1;31mOperationTimedOut\u001b[0m                         Traceback (most recent call last)",
      "Cell \u001b[1;32mIn[20], line 7\u001b[0m\n\u001b[0;32m      5\u001b[0m     data_ingestion\u001b[38;5;241m.\u001b[39mdownload_data()\n\u001b[0;32m      6\u001b[0m \u001b[38;5;28;01mexcept\u001b[39;00m \u001b[38;5;167;01mException\u001b[39;00m \u001b[38;5;28;01mas\u001b[39;00m e:\n\u001b[1;32m----> 7\u001b[0m     \u001b[38;5;28;01mraise\u001b[39;00m e\n",
      "Cell \u001b[1;32mIn[20], line 5\u001b[0m\n\u001b[0;32m      3\u001b[0m     data_ingestion_config \u001b[38;5;241m=\u001b[39m config\u001b[38;5;241m.\u001b[39mget_data_ingestion_config()\n\u001b[0;32m      4\u001b[0m     data_ingestion \u001b[38;5;241m=\u001b[39m DataIngestion(config\u001b[38;5;241m=\u001b[39mdata_ingestion_config)\n\u001b[1;32m----> 5\u001b[0m     \u001b[43mdata_ingestion\u001b[49m\u001b[38;5;241;43m.\u001b[39;49m\u001b[43mdownload_data\u001b[49m\u001b[43m(\u001b[49m\u001b[43m)\u001b[49m\n\u001b[0;32m      6\u001b[0m \u001b[38;5;28;01mexcept\u001b[39;00m \u001b[38;5;167;01mException\u001b[39;00m \u001b[38;5;28;01mas\u001b[39;00m e:\n\u001b[0;32m      7\u001b[0m     \u001b[38;5;28;01mraise\u001b[39;00m e\n",
      "Cell \u001b[1;32mIn[18], line 28\u001b[0m, in \u001b[0;36mDataIngestion.download_data\u001b[1;34m(self)\u001b[0m\n\u001b[0;32m     26\u001b[0m \u001b[38;5;28;01mexcept\u001b[39;00m \u001b[38;5;167;01mException\u001b[39;00m \u001b[38;5;28;01mas\u001b[39;00m e:\n\u001b[0;32m     27\u001b[0m     logger\u001b[38;5;241m.\u001b[39merror(\u001b[38;5;124mf\u001b[39m\u001b[38;5;124m\"\u001b[39m\u001b[38;5;124mError downloading data: \u001b[39m\u001b[38;5;132;01m{\u001b[39;00me\u001b[38;5;132;01m}\u001b[39;00m\u001b[38;5;124m\"\u001b[39m)\n\u001b[1;32m---> 28\u001b[0m     \u001b[38;5;28;01mraise\u001b[39;00m e\n\u001b[0;32m     30\u001b[0m \u001b[38;5;28;01mfinally\u001b[39;00m:\n\u001b[0;32m     31\u001b[0m     \u001b[38;5;66;03m# Close the session and cluster\u001b[39;00m\n\u001b[0;32m     32\u001b[0m     session\u001b[38;5;241m.\u001b[39mshutdown()\n",
      "Cell \u001b[1;32mIn[18], line 17\u001b[0m, in \u001b[0;36mDataIngestion.download_data\u001b[1;34m(self)\u001b[0m\n\u001b[0;32m     15\u001b[0m \u001b[38;5;28;01mfor\u001b[39;00m table_name \u001b[38;5;129;01min\u001b[39;00m \u001b[38;5;28mself\u001b[39m\u001b[38;5;241m.\u001b[39mconfig\u001b[38;5;241m.\u001b[39mtable_name:\n\u001b[0;32m     16\u001b[0m         query \u001b[38;5;241m=\u001b[39m \u001b[38;5;124mf\u001b[39m\u001b[38;5;124m\"\u001b[39m\u001b[38;5;124mSELECT * FROM \u001b[39m\u001b[38;5;132;01m{\u001b[39;00mtable_name\u001b[38;5;132;01m}\u001b[39;00m\u001b[38;5;124m\"\u001b[39m\n\u001b[1;32m---> 17\u001b[0m         result_set \u001b[38;5;241m=\u001b[39m \u001b[43msession\u001b[49m\u001b[38;5;241;43m.\u001b[39;49m\u001b[43mexecute\u001b[49m\u001b[43m(\u001b[49m\u001b[43mquery\u001b[49m\u001b[43m)\u001b[49m\n\u001b[0;32m     18\u001b[0m         df \u001b[38;5;241m=\u001b[39m pd\u001b[38;5;241m.\u001b[39mDataFrame(\u001b[38;5;28mlist\u001b[39m(result_set))\n\u001b[0;32m     19\u001b[0m         df_list\u001b[38;5;241m.\u001b[39mappend(df)\n",
      "File \u001b[1;32mc:\\Users\\hp\\Documents\\DS\\Complete Project\\03-Air-Quality-Index-Predictor\\env\\lib\\site-packages\\cassandra\\cluster.py:2677\u001b[0m, in \u001b[0;36mcassandra.cluster.Session.execute\u001b[1;34m()\u001b[0m\n",
      "File \u001b[1;32mc:\\Users\\hp\\Documents\\DS\\Complete Project\\03-Air-Quality-Index-Predictor\\env\\lib\\site-packages\\cassandra\\cluster.py:4956\u001b[0m, in \u001b[0;36mcassandra.cluster.ResponseFuture.result\u001b[1;34m()\u001b[0m\n",
      "\u001b[1;31mOperationTimedOut\u001b[0m: errors={'5af7119b-a6dd-47a6-be00-196398f826d7-eu-west-1.db.astra.datastax.com:29042:396fbeff-567f-440c-9442-8c9d393f6318': 'Client request timeout. See Session.execute[_async](timeout)'}, last_host=5af7119b-a6dd-47a6-be00-196398f826d7-eu-west-1.db.astra.datastax.com:29042:396fbeff-567f-440c-9442-8c9d393f6318"
     ]
    }
   ],
   "source": [
    "try:\n",
    "    config = ConfigurationManager()\n",
    "    data_ingestion_config = config.get_data_ingestion_config()\n",
    "    data_ingestion = DataIngestion(config=data_ingestion_config)\n",
    "    data_ingestion.download_data()\n",
    "except Exception as e:\n",
    "    raise e"
   ]
  },
  {
   "cell_type": "code",
   "execution_count": null,
   "metadata": {},
   "outputs": [],
   "source": [
    "from cassandra.cluster import Cluster\n",
    "import pandas as pd\n",
    "from cassandra.auth import PlainTextAuthProvider\n",
    "# Define your Astra DB connection settings\n",
    "username = 'pDXDFknYBnqRETdPytgyUFnk'\n",
    "password = 'J9CqCaw1s8k4Af7HgaeS2+_P8Pq8RCtCp,6gZe_QFSZei.9lsSaGjuEYwkJPwRnhT0MNK6JYcQRrd+lELEa5YM_nFqL8p-ZPLw0nleayB1rmScWmuBrmEujuWu_m3.ab'\n",
    "keyspace = 'data'\n",
    "cluster_id = 'aqdata1'\n",
    "region = \"eu-west-1\"\n",
    "\n",
    "# Create a connection to your Astra DB cluster\n",
    "cloud_config = {\n",
    "    'secure_connect_bundle': 'C:\\\\Users\\\\HP\\\\Downloads\\\\secure-connect-air-quality-index-data.zip'\n",
    "}\n",
    "auth_provider = PlainTextAuthProvider(username=username, password=password)\n",
    "cluster = Cluster(cloud=cloud_config, auth_provider=auth_provider)\n",
    "session = cluster.connect(keyspace)\n",
    "\n",
    "\n",
    "# Define your query\n",
    "query = \"SELECT * FROM aqdata1\"\n",
    "\n",
    "# Execute the query and fetch the results\n",
    "result_set = session.execute(query)\n",
    "\n",
    "# Convert the result set to a DataFrame\n",
    "df = pd.DataFrame(list(result_set))\n",
    "print(df.head())\n",
    "df.to_csv('aqdata1.csv')\n",
    "# Close the session and cluster\n",
    "session.shutdown()\n",
    "cluster.shutdown()"
   ]
  }
 ],
 "metadata": {
  "kernelspec": {
   "display_name": "textS",
   "language": "python",
   "name": "python3"
  },
  "language_info": {
   "codemirror_mode": {
    "name": "ipython",
    "version": 3
   },
   "file_extension": ".py",
   "mimetype": "text/x-python",
   "name": "python",
   "nbconvert_exporter": "python",
   "pygments_lexer": "ipython3",
   "version": "3.10.11"
  },
  "orig_nbformat": 4
 },
 "nbformat": 4,
 "nbformat_minor": 2
}
