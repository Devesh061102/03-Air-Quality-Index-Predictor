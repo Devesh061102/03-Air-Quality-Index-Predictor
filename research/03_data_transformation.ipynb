{
 "cells": [
  {
   "cell_type": "code",
   "execution_count": 1,
   "metadata": {},
   "outputs": [
    {
     "data": {
      "text/plain": [
       "'d:\\\\ML-Projects\\\\03-Air-Quality-Index-Predictor\\\\research'"
      ]
     },
     "execution_count": 1,
     "metadata": {},
     "output_type": "execute_result"
    }
   ],
   "source": [
    "import os\n",
    "%pwd"
   ]
  },
  {
   "cell_type": "code",
   "execution_count": 2,
   "metadata": {},
   "outputs": [
    {
     "data": {
      "text/plain": [
       "'d:\\\\ML-Projects\\\\03-Air-Quality-Index-Predictor'"
      ]
     },
     "execution_count": 2,
     "metadata": {},
     "output_type": "execute_result"
    }
   ],
   "source": [
    "os.chdir(\"../\")\n",
    "%pwd"
   ]
  },
  {
   "cell_type": "code",
   "execution_count": 3,
   "metadata": {},
   "outputs": [],
   "source": [
    "import warnings\n",
    "warnings.filterwarnings(\"ignore\")"
   ]
  },
  {
   "cell_type": "code",
   "execution_count": 4,
   "metadata": {},
   "outputs": [],
   "source": [
    "from dataclasses import dataclass\n",
    "from pathlib import Path\n",
    "\n",
    "\n",
    "@dataclass(frozen=True)\n",
    "class DataTransformationConfig:\n",
    "    root_dir: Path\n",
    "    data_path: Path"
   ]
  },
  {
   "cell_type": "code",
   "execution_count": 5,
   "metadata": {},
   "outputs": [],
   "source": [
    "from Air_Quality_Predictor.constants import *\n",
    "from Air_Quality_Predictor.utils.common import read_yaml, create_directories"
   ]
  },
  {
   "cell_type": "code",
   "execution_count": 6,
   "metadata": {},
   "outputs": [],
   "source": [
    "class ConfigurationManager:\n",
    "    def __init__(\n",
    "        self,\n",
    "        config_filepath = CONFIG_FILE_PATH,\n",
    "        params_filepath = PARAMS_FILE_PATH):\n",
    "\n",
    "        self.config = read_yaml(config_filepath)\n",
    "        self.params = read_yaml(params_filepath)\n",
    "\n",
    "        create_directories([self.config.artifacts_root])\n",
    "\n",
    "\n",
    "    \n",
    "    def get_data_transformation_config(self) -> DataTransformationConfig:\n",
    "        config = self.config.data_transformation\n",
    "\n",
    "        create_directories([config.root_dir])\n",
    "\n",
    "        data_transformation_config = DataTransformationConfig(\n",
    "            root_dir=config.root_dir,\n",
    "            data_path=config.data_path\n",
    "        )\n",
    "\n",
    "        return data_transformation_config"
   ]
  },
  {
   "cell_type": "code",
   "execution_count": 7,
   "metadata": {},
   "outputs": [],
   "source": [
    "import os\n",
    "from Air_Quality_Predictor.utils.common import breakpoints_dict, get_subindex\n",
    "from Air_Quality_Predictor.logging import logger\n",
    "import pandas as pd\n",
    "import numpy as np \n",
    "from datetime import datetime,timedelta"
   ]
  },
  {
   "cell_type": "code",
   "execution_count": 8,
   "metadata": {},
   "outputs": [],
   "source": [
    "class DataTransformation:\n",
    "    def __init__(self, config: DataTransformationConfig):\n",
    "        self.config = config\n",
    "    \n",
    "    def rename_pollutants_columns(self, df):\n",
    "        df.rename(columns={'co': 'CO', 'no2': 'NO2', 'o3': 'O3', 'pm10': 'PM10', 'pm2_5': 'PM2.5', 'so2': 'SO2'}, inplace=True)\n",
    "        return df\n",
    "    \n",
    "    def convert_date_column(self, df, date_column, date_format):\n",
    "        df[date_column] = pd.to_datetime(df[date_column], format=date_format)\n",
    "        return df   \n",
    "\n",
    "    def set_negative_to_zero(self, df, column_name):\n",
    "        df[column_name] = df[column_name].apply(lambda x: max(x, 0))\n",
    "        return df\n",
    "    \n",
    "    def calculate_subindices(self, df, breakpoints_dict):\n",
    "        subindices = {}\n",
    "        for column, breakpoints in breakpoints_dict.items():\n",
    "            subindices[column] = df[column].apply(lambda x: get_subindex(x, breakpoints))\n",
    "        return subindices\n",
    "\n",
    "    def calculate_AQI(self, new_df):\n",
    "        new_df[\"AQI_calculated\"] = round(new_df[[\"PM2.5_SubIndex\", \"PM10_SubIndex\", \"SO2_SubIndex\", \"NO2_SubIndex\",\n",
    "                                        \"CO_SubIndex\", \"O3_SubIndex\"]].max(axis=1))\n",
    "        new_df.loc[new_df[\"PM2.5_SubIndex\"] + new_df[\"PM10_SubIndex\"] <= 0, \"AQI_calculated\"] = np.NaN\n",
    "        return new_df\n",
    "    \n",
    "    def convert_CO_to_mg_per_m3(self,dataframe):\n",
    "        # Convert CO column from μg/m3 to mg/m3\n",
    "        dataframe['CO'] = dataframe['CO'] / 1000\n",
    "        return dataframe\n",
    "    \n",
    "    def select_columns(self, df, columns_to_keep):\n",
    "        \"\"\"\n",
    "        Selects only the specified columns and drops the rest from the DataFrame.\n",
    "        \n",
    "        Parameters:\n",
    "        df (pd.DataFrame): The DataFrame containing the data.\n",
    "        columns_to_keep (list): A list of column names to keep in the DataFrame.\n",
    "        \n",
    "        Returns:\n",
    "        pd.DataFrame: The DataFrame with only the selected columns.\n",
    "        \"\"\"\n",
    "        df = df[columns_to_keep]\n",
    "        return df\n",
    "    \n",
    "    def convert(self):\n",
    "        dataset = pd.read_csv(self.config.data_path)\n",
    "        logger.info(\"Data read successfully\")\n",
    "\n",
    "        dataset = self.rename_pollutants_columns(dataset)\n",
    "        logger.info(\"Data renamed successfully\")\n",
    "\n",
    "        dataset = self.convert_date_column(dataset, 'date', \"%d-%m-%Y\")\n",
    "        logger.info(\"Data date adjusted successfully\")\n",
    "\n",
    "        dataset = self.set_negative_to_zero(dataset, 'O3')\n",
    "        logger.info(\"O3 data adjusted successfully\")\n",
    "\n",
    "        dataset = self.convert_CO_to_mg_per_m3(dataset)\n",
    "\n",
    "        subindices = self.calculate_subindices(dataset, breakpoints_dict)\n",
    "        logger.info(\"Data subindices calculated successfully\")\n",
    "\n",
    "        for column, subindex_values in subindices.items():\n",
    "            dataset[f\"{column}_SubIndex\"] = subindex_values\n",
    "        logger.info(\"Data subindex added  successfully\")\n",
    "\n",
    "        dataset = self.calculate_AQI(dataset)\n",
    "        logger.info(\"Data AQI calculated successfully\")\n",
    "        \n",
    "        dataset = self.select_columns(dataset, ['date','city','CO', 'NO2', 'O3', 'PM10', 'PM2.5', 'SO2','AQI_calculated'])\n",
    "        logger.info(\"Column selected successfully\")\n",
    "\n",
    "        dataset.set_index('date', inplace=True)\n",
    "        dataset = dataset.sort_index(ascending=True)\n",
    "\n",
    "        train_dataset_end = pd.Timestamp(datetime(2023, 12, 30))\n",
    "        test_dataset_start = train_dataset_end + timedelta(days=1) \n",
    "        test_dataset_end = pd.Timestamp(datetime(2024, 5, 31))\n",
    "\n",
    "        train_data = dataset.loc[:train_dataset_end]\n",
    "        test_data = dataset.loc[test_dataset_start:test_dataset_end]\n",
    "        \n",
    "        train_data.to_csv(os.path.join(self.config.root_dir, \"train_dataset.csv\"))\n",
    "        test_data.to_csv(os.path.join(self.config.root_dir, \"test_dataset.csv\"))\n",
    "        logger.info(\"Train and Test data made successfully\")\n"
   ]
  },
  {
   "cell_type": "code",
   "execution_count": 9,
   "metadata": {},
   "outputs": [
    {
     "name": "stdout",
     "output_type": "stream",
     "text": [
      "[2024-06-03 09:59:36,340 : INFO : common : yaml file: config\\config.yaml loaded successfully]\n",
      "[2024-06-03 09:59:36,341 : INFO : common : yaml file: params.yaml loaded successfully]\n",
      "[2024-06-03 09:59:36,343 : INFO : common : Created directory at: artifacts]\n",
      "[2024-06-03 09:59:36,343 : INFO : common : Created directory at: artifacts/data_transformation]\n",
      "[2024-06-03 09:59:36,354 : INFO : 2892427142 : Data read successfully]\n",
      "[2024-06-03 09:59:36,355 : INFO : 2892427142 : Data renamed successfully]\n",
      "[2024-06-03 09:59:36,375 : INFO : 2892427142 : Data date adjusted successfully]\n",
      "[2024-06-03 09:59:36,378 : INFO : 2892427142 : O3 data adjusted successfully]\n"
     ]
    },
    {
     "ename": "TypeError",
     "evalue": "DataTransformation.convert_CO_to_mg_per_m3() takes 1 positional argument but 2 were given",
     "output_type": "error",
     "traceback": [
      "\u001b[1;31m---------------------------------------------------------------------------\u001b[0m",
      "\u001b[1;31mTypeError\u001b[0m                                 Traceback (most recent call last)",
      "Cell \u001b[1;32mIn[9], line 7\u001b[0m\n\u001b[0;32m      5\u001b[0m     data_transformation\u001b[38;5;241m.\u001b[39mconvert()\n\u001b[0;32m      6\u001b[0m \u001b[38;5;28;01mexcept\u001b[39;00m \u001b[38;5;167;01mException\u001b[39;00m \u001b[38;5;28;01mas\u001b[39;00m e:\n\u001b[1;32m----> 7\u001b[0m     \u001b[38;5;28;01mraise\u001b[39;00m e\n",
      "Cell \u001b[1;32mIn[9], line 5\u001b[0m\n\u001b[0;32m      3\u001b[0m     data_transformation_config \u001b[38;5;241m=\u001b[39m config\u001b[38;5;241m.\u001b[39mget_data_transformation_config()\n\u001b[0;32m      4\u001b[0m     data_transformation \u001b[38;5;241m=\u001b[39m DataTransformation(config\u001b[38;5;241m=\u001b[39mdata_transformation_config)\n\u001b[1;32m----> 5\u001b[0m     \u001b[43mdata_transformation\u001b[49m\u001b[38;5;241;43m.\u001b[39;49m\u001b[43mconvert\u001b[49m\u001b[43m(\u001b[49m\u001b[43m)\u001b[49m\n\u001b[0;32m      6\u001b[0m \u001b[38;5;28;01mexcept\u001b[39;00m \u001b[38;5;167;01mException\u001b[39;00m \u001b[38;5;28;01mas\u001b[39;00m e:\n\u001b[0;32m      7\u001b[0m     \u001b[38;5;28;01mraise\u001b[39;00m e\n",
      "Cell \u001b[1;32mIn[8], line 61\u001b[0m, in \u001b[0;36mDataTransformation.convert\u001b[1;34m(self)\u001b[0m\n\u001b[0;32m     58\u001b[0m dataset \u001b[38;5;241m=\u001b[39m \u001b[38;5;28mself\u001b[39m\u001b[38;5;241m.\u001b[39mset_negative_to_zero(dataset, \u001b[38;5;124m'\u001b[39m\u001b[38;5;124mO3\u001b[39m\u001b[38;5;124m'\u001b[39m)\n\u001b[0;32m     59\u001b[0m logger\u001b[38;5;241m.\u001b[39minfo(\u001b[38;5;124m\"\u001b[39m\u001b[38;5;124mO3 data adjusted successfully\u001b[39m\u001b[38;5;124m\"\u001b[39m)\n\u001b[1;32m---> 61\u001b[0m dataset \u001b[38;5;241m=\u001b[39m \u001b[38;5;28;43mself\u001b[39;49m\u001b[38;5;241;43m.\u001b[39;49m\u001b[43mconvert_CO_to_mg_per_m3\u001b[49m\u001b[43m(\u001b[49m\u001b[43mdataset\u001b[49m\u001b[43m)\u001b[49m\n\u001b[0;32m     63\u001b[0m subindices \u001b[38;5;241m=\u001b[39m \u001b[38;5;28mself\u001b[39m\u001b[38;5;241m.\u001b[39mcalculate_subindices(dataset, breakpoints_dict)\n\u001b[0;32m     64\u001b[0m logger\u001b[38;5;241m.\u001b[39minfo(\u001b[38;5;124m\"\u001b[39m\u001b[38;5;124mData subindices calculated successfully\u001b[39m\u001b[38;5;124m\"\u001b[39m)\n",
      "\u001b[1;31mTypeError\u001b[0m: DataTransformation.convert_CO_to_mg_per_m3() takes 1 positional argument but 2 were given"
     ]
    }
   ],
   "source": [
    "try:\n",
    "    config = ConfigurationManager()\n",
    "    data_transformation_config = config.get_data_transformation_config()\n",
    "    data_transformation = DataTransformation(config=data_transformation_config)\n",
    "    data_transformation.convert()\n",
    "except Exception as e:\n",
    "    raise e"
   ]
  },
  {
   "cell_type": "code",
   "execution_count": null,
   "metadata": {},
   "outputs": [],
   "source": []
  },
  {
   "cell_type": "code",
   "execution_count": null,
   "metadata": {},
   "outputs": [],
   "source": []
  }
 ],
 "metadata": {
  "kernelspec": {
   "display_name": "env",
   "language": "python",
   "name": "python3"
  },
  "language_info": {
   "codemirror_mode": {
    "name": "ipython",
    "version": 3
   },
   "file_extension": ".py",
   "mimetype": "text/x-python",
   "name": "python",
   "nbconvert_exporter": "python",
   "pygments_lexer": "ipython3",
   "version": "3.10.11"
  }
 },
 "nbformat": 4,
 "nbformat_minor": 2
}
