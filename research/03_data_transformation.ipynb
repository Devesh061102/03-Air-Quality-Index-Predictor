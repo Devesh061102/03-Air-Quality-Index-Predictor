{
 "cells": [
  {
   "cell_type": "code",
   "execution_count": 1,
   "metadata": {},
   "outputs": [
    {
     "data": {
      "text/plain": [
       "'c:\\\\Users\\\\hp\\\\Documents\\\\DS\\\\Complete Project\\\\03-Air-Quality-Index-Predictor\\\\research'"
      ]
     },
     "execution_count": 1,
     "metadata": {},
     "output_type": "execute_result"
    }
   ],
   "source": [
    "import os\n",
    "%pwd"
   ]
  },
  {
   "cell_type": "code",
   "execution_count": 3,
   "metadata": {},
   "outputs": [
    {
     "data": {
      "text/plain": [
       "'c:\\\\Users\\\\hp\\\\Documents\\\\DS\\\\Complete Project\\\\03-Air-Quality-Index-Predictor'"
      ]
     },
     "execution_count": 3,
     "metadata": {},
     "output_type": "execute_result"
    }
   ],
   "source": [
    "os.chdir(\"../\")\n",
    "%pwd"
   ]
  },
  {
   "cell_type": "code",
   "execution_count": 1,
   "metadata": {},
   "outputs": [],
   "source": [
    "from dataclasses import dataclass\n",
    "from pathlib import Path\n",
    "\n",
    "\n",
    "@dataclass(frozen=True)\n",
    "class DataTransformationConfig:\n",
    "    root_dir: Path\n",
    "    data_path: Path"
   ]
  },
  {
   "cell_type": "code",
   "execution_count": null,
   "metadata": {},
   "outputs": [],
   "source": [
    "from Air_Quality_Predictor.constants import *\n",
    "from Air_Quality_Predictor.utils.common import *"
   ]
  },
  {
   "cell_type": "code",
   "execution_count": null,
   "metadata": {},
   "outputs": [],
   "source": [
    "class ConfigurationManager:\n",
    "    def __init__(\n",
    "        self,\n",
    "        config_filepath = CONFIG_FILE_PATH,\n",
    "        params_filepath = PARAMS_FILE_PATH):\n",
    "\n",
    "        self.config = read_yaml(config_filepath)\n",
    "        self.params = read_yaml(params_filepath)\n",
    "\n",
    "        create_directories([self.config.artifacts_root])\n",
    "\n",
    "\n",
    "    \n",
    "    def get_data_transformation_config(self) -> DataTransformationConfig:\n",
    "        config = self.config.data_transformation\n",
    "\n",
    "        create_directories([config.root_dir])\n",
    "\n",
    "        data_transformation_config = DataTransformationConfig(\n",
    "            root_dir=config.root_dir,\n",
    "            data_path=config.data_path\n",
    "        )\n",
    "\n",
    "        return data_transformation_config"
   ]
  },
  {
   "cell_type": "code",
   "execution_count": 3,
   "metadata": {},
   "outputs": [],
   "source": [
    "import os\n",
    "from Air_Quality_Predictor.utils.common import *\n",
    "from Air_Quality_Predictor.logging import logger\n",
    "import pandas as pd\n",
    "import numpy as np"
   ]
  },
  {
   "cell_type": "code",
   "execution_count": null,
   "metadata": {},
   "outputs": [],
   "source": [
    "class DataTransformation:\n",
    "    def __init__(self, config: DataTransformationConfig):\n",
    "        self.config = config\n",
    "\n",
    "    def clean_specie_column(df):\n",
    "        df['specie'] = df['specie'].str.lower()\n",
    "        df['specie'].replace(to_replace=dict(pm25=\"pm2.5\"), inplace=True)\n",
    "        return df\n",
    "    \n",
    "    def clean_city_names(df):\n",
    "        df['city'].replace(to_replace=dict(Hāpur=\"Hapur\", Ghāziābād=\"Ghaziabad\"), inplace=True)\n",
    "        return df\n",
    "    \n",
    "    def pivot_dataset(dataset):\n",
    "        return (dataset\n",
    "            .pivot_table(index=['date', 'city'], columns='specie', values='median')\n",
    "            .reset_index()\n",
    "            .rename_axis(None, axis=1)\n",
    "            .rename_axis('Index'))\n",
    "    \n",
    "    def convert_date_column(df, date_column, date_format):\n",
    "        df[date_column] = pd.to_datetime(df[date_column], format=date_format)\n",
    "        return df\n",
    "\n",
    "    def filter_year(df, year):\n",
    "        df = df[df['date'].dt.year != year]\n",
    "        return df\n",
    "\n",
    "    def rename_pollutants_columns(df):\n",
    "        df.rename(columns={'co': 'CO', 'no2': 'NO2', 'o3': 'O3', 'pm10': 'PM10', 'pm2.5': 'PM2.5', 'so2': 'SO2'}, inplace=True)\n",
    "        return df\n",
    "\n",
    "    def calculate_subindices(df, breakpoints_dict):\n",
    "        subindices = {}\n",
    "        for column, breakpoints in breakpoints_dict.items():\n",
    "            subindices[column] = df[column].apply(lambda x: get_subindex(x, breakpoints))\n",
    "        return subindices\n",
    "\n",
    "    # Define breakpoints for each sub-index\n",
    "    breakpoints_dict = {\n",
    "        \"PM2.5\": [30, 60, 90, 120, 250],\n",
    "        \"PM10\": [50, 100, 250, 350, 430],\n",
    "        \"O3\": [50, 100, 168, 208, 748],\n",
    "        \"CO\": [1, 2, 10, 17, 34],\n",
    "        \"NO2\": [40, 80, 180, 280, 400],\n",
    "        \"SO2\": [40, 80, 380, 800, 1600]\n",
    "    }\n",
    "\n",
    "    def calculate_AQI(new_df):\n",
    "        new_df[\"Checks\"] = (new_df[\"PM2.5_SubIndex\"] > 0).astype(int) + \\\n",
    "                        (new_df[\"PM10_SubIndex\"] > 0).astype(int) + \\\n",
    "                        (new_df[\"SO2_SubIndex\"] > 0).astype(int) + \\\n",
    "                        (new_df[\"NOx_SubIndex\"] > 0).astype(int) + \\\n",
    "                        (new_df[\"CO_SubIndex\"] > 0).astype(int) + \\\n",
    "                        (new_df[\"O3_SubIndex\"] > 0).astype(int)\n",
    "\n",
    "        new_df[\"AQI_calculated\"] = round(new_df[[\"PM2.5_SubIndex\", \"PM10_SubIndex\", \"SO2_SubIndex\", \"NOx_SubIndex\",\n",
    "                                        \"CO_SubIndex\", \"O3_SubIndex\"]].max(axis=1))\n",
    "        new_df.loc[new_df[\"PM2.5_SubIndex\"] + new_df[\"PM10_SubIndex\"] <= 0, \"AQI_calculated\"] = np.NaN\n",
    "        new_df.loc[new_df.Checks < 3, \"AQI_calculated\"] = np.NaN\n",
    "        return new_df\n",
    "\n",
    "    def calculate_AQI_bucket(new_df):\n",
    "        def get_AQI_bucket(x):\n",
    "            if x <= 50:\n",
    "                return \"Good\"\n",
    "            elif x <= 100:\n",
    "                return \"Satisfactory\"\n",
    "            elif x <= 200:\n",
    "                return \"Moderate\"\n",
    "            elif x <= 300:\n",
    "                return \"Poor\"\n",
    "            elif x <= 400:\n",
    "                return \"Very Poor\"\n",
    "            elif x > 400:\n",
    "                return \"Severe\"\n",
    "            else:\n",
    "                return np.NaN\n",
    "\n",
    "        new_df[\"AQI_bucket_calculated\"] = new_df[\"AQI_calculated\"].apply(lambda x: get_AQI_bucket(x))\n",
    "        return new_df\n",
    "    \n",
    "\n",
    "    def convert(self):\n",
    "        dataset = pd.read_csv(self.config.data_path)\n",
    "        dataset = clean_specie_column(dataset)\n",
    "        dataset = clean_city_names(dataset)\n",
    "        dataset = pivot_dataset(dataset)\n",
    "        dataset = convert_date_column(dataset, 'date', \"%d-%m-%Y\")\n",
    "        dataset = filter_year(dataset, 2014)\n",
    "        subindices = calculate_subindices(dataset, breakpoints_dict)\n",
    "        dataset = rename_pollutants_columns(dataset)\n",
    "        for column, subindex_values in subindices.items():\n",
    "            dataset[f\"{column}_SubIndex\"] = subindex_values\n",
    "        dataset = calculate_AQI(dataset)\n",
    "        dataset = calculate_AQI_bucket(dataset)\n",
    "\n"
   ]
  },
  {
   "cell_type": "code",
   "execution_count": null,
   "metadata": {},
   "outputs": [],
   "source": []
  }
 ],
 "metadata": {
  "kernelspec": {
   "display_name": "env",
   "language": "python",
   "name": "python3"
  },
  "language_info": {
   "codemirror_mode": {
    "name": "ipython",
    "version": 3
   },
   "file_extension": ".py",
   "mimetype": "text/x-python",
   "name": "python",
   "nbconvert_exporter": "python",
   "pygments_lexer": "ipython3",
   "version": "3.10.11"
  }
 },
 "nbformat": 4,
 "nbformat_minor": 2
}
